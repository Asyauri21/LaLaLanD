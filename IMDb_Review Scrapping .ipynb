{
  "cells": [
    {
      "cell_type": "markdown",
      "metadata": {
        "id": "s-nX2sqbvXTl"
      },
      "source": [
        "Scraping from Web"
      ]
    },
    {
      "cell_type": "code",
      "execution_count": null,
      "metadata": {
        "colab": {
          "background_save": true
        },
        "id": "6uC4rdqXizck",
        "outputId": "e4a3794d-28dc-43e8-ec7e-e55cbaa53b09"
      },
      "outputs": [
        {
          "name": "stdout",
          "output_type": "stream",
          "text": [
            "Scraped 2331 reviews!\n"
          ]
        }
      ],
      "source": [
        "import requests\n",
        "from bs4 import BeautifulSoup\n",
        "import pandas as pd\n",
        "import time\n",
        "\n",
        "# Fungsi untuk mengambil ulasan dari satu halaman\n",
        "def scrape_reviews(page_url):\n",
        "    headers = {\"User-Agent\": \"Mozilla/5.0\"}\n",
        "    response = requests.get(page_url, headers=headers)\n",
        "    soup = BeautifulSoup(response.content, 'html.parser')\n",
        "\n",
        "    review_containers = soup.find_all('div', class_='lister-item-content')\n",
        "\n",
        "    for container in review_containers:\n",
        "        title = container.find('a', class_='title').text.strip() if container.find('a', class_='title') else 'No title'\n",
        "        username = container.find('span', class_='display-name-link').text.strip() if container.find('span', class_='display-name-link') else 'No username'\n",
        "        review_text = container.find('div', class_='text').text.strip() if container.find('div', class_='text') else 'No review'\n",
        "        date = container.find('span', class_='review-date').text.strip() if container.find('span', class_='review-date') else 'No date'\n",
        "\n",
        "        titles.append(title)\n",
        "        usernames.append(username)\n",
        "        reviews.append(review_text)\n",
        "        dates.append(date)\n",
        "\n",
        "# Inisialisasi List untuk menyimpan data ulasan\n",
        "titles = []\n",
        "usernames = []\n",
        "reviews = []\n",
        "dates = []\n",
        "\n",
        "# Base URL untuk ulasan IMDb\n",
        "base_url = 'https://www.imdb.com/title/tt3783958/reviews/_ajax?ref_=undefined&paginationKey={}'\n",
        "\n",
        "# Mulai scrapping dari halaman pertama\n",
        "pagination_key = ''\n",
        "while True:\n",
        "    page_url = base_url.format(pagination_key)\n",
        "    scrape_reviews(page_url)\n",
        "\n",
        "    # Untuk menememukan kunci pagination  halaman berikutnya\n",
        "    soup = BeautifulSoup(requests.get(page_url).content, 'html.parser')\n",
        "    pagination_key = soup.find('div', class_='load-more-data')['data-key'] if soup.find('div', class_='load-more-data') else None\n",
        "\n",
        "    # Hentikan loop jika tidak ada lagi ulasan yang ditemukan\n",
        "    if not pagination_key:\n",
        "        break\n",
        "\n",
        "    time.sleep(2)  # Untuk menghindari terlalu banyak permintaan ke server IMDb\n",
        "\n",
        "\n",
        "# membuat DataFrame dari data tersebut\n",
        "df = pd.DataFrame({\n",
        "    'Title': titles,\n",
        "    'Username': usernames,\n",
        "    'Review': reviews,\n",
        "    'Date': dates\n",
        "})\n",
        "\n",
        "# yang terakhir, # Simpan ke dalam CSV\n",
        "\n",
        "\n",
        "df.to_csv('all_imdb_reviews.csv', index=False)\n",
        "\n",
        "print(f\"Scraped {len(df)} reviews!\")"
      ]
    }
  ],
  "metadata": {
    "colab": {
      "provenance": []
    },
    "kernelspec": {
      "display_name": "Python 3",
      "name": "python3"
    },
    "language_info": {
      "name": "python"
    }
  },
  "nbformat": 4,
  "nbformat_minor": 0
}
