{
  "cells": [
    {
      "cell_type": "markdown",
      "metadata": {
        "id": "RQ8QoLrSvJtK"
      },
      "source": [
        "Algoritma untuk Menghapus Kolom Username, Title, and Date\n",
        "\n",
        "> *Add blockquote*\n",
        "\n"
      ]
    },
    {
      "cell_type": "code",
      "execution_count": null,
      "metadata": {
        "colab": {
          "base_uri": "https://localhost:8080/"
        },
        "id": "UUDgmR3JrDjG",
        "outputId": "4a51d19b-d0e4-4bc1-f7f5-f76e26882f22"
      },
      "outputs": [
        {
          "name": "stdout",
          "output_type": "stream",
          "text": [
            "Columns removed successfully and file saved as 'reviews_without_meta.csv'.\n"
          ]
        }
      ],
      "source": [
        "import pandas as pd\n",
        "\n",
        "# Untuk memuat csv file\n",
        "df = pd.read_csv('all_imdb_reviews.csv')\n",
        "\n",
        "# menhilangkan kolom 'Username', 'Date', dan 'Title'.\n",
        "df = df.drop(columns=['Username', 'Date', 'Title'])\n",
        "\n",
        "# Menyimpan dataframe baru ke dalam csv\n",
        "df.to_csv('reviews_without_meta.csv', index=False)\n",
        "\n",
        "print(\"Columns removed successfully and file saved as 'reviews_without_meta.csv'.\")\n"
      ]
    },
    {
      "cell_type": "markdown",
      "metadata": {
        "id": "y-fV-lW2vEoY"
      },
      "source": [
        "**Pre-Processing only Review**"
      ]
    },
    {
      "cell_type": "code",
      "execution_count": null,
      "metadata": {
        "colab": {
          "base_uri": "https://localhost:8080/"
        },
        "id": "WOJdUCEhsyi_",
        "outputId": "47a3b362-8c3b-46f7-82b3-7a877e2afb3f"
      },
      "outputs": [
        {
          "name": "stderr",
          "output_type": "stream",
          "text": [
            "[nltk_data] Downloading package punkt to /root/nltk_data...\n",
            "[nltk_data]   Package punkt is already up-to-date!\n",
            "[nltk_data] Downloading package stopwords to /root/nltk_data...\n",
            "[nltk_data]   Package stopwords is already up-to-date!\n",
            "[nltk_data] Downloading package wordnet to /root/nltk_data...\n",
            "[nltk_data]   Package wordnet is already up-to-date!\n"
          ]
        }
      ],
      "source": [
        "import pandas as pd\n",
        "import nltk\n",
        "nltk.download('punkt')\n",
        "nltk.download('stopwords')\n",
        "nltk.download('wordnet')\n",
        "import re\n",
        "from nltk.corpus import stopwords\n",
        "from nltk.tokenize import word_tokenize\n",
        "from nltk.stem import WordNetLemmatizer\n",
        "\n",
        "lemmatizer = WordNetLemmatizer()\n",
        "stop_words = set(stopwords.words('english'))\n",
        "df= pd.read_csv('reviews_without_meta.csv')\n",
        "\n",
        "def preprocess_text(text):\n",
        "    # Lowercase the text\n",
        "    text = text.lower()\n",
        "    # Remove punctuation and numbers\n",
        "    text = re.sub(r'[^\\w\\s]', '', text)\n",
        "    # Tokenization\n",
        "    tokens = word_tokenize(text)\n",
        "    # Remove stopwords and lemmatize\n",
        "    tokens = [lemmatizer.lemmatize(word) for word in tokens if word not in stop_words]\n",
        "    return ' '.join(tokens)\n",
        "\n",
        "df['Cleaned_Review'] = df['Review'].apply(preprocess_text)\n",
        "df.to_csv('review_cleaning.csv', index=False)\n",
        "\n"
      ]
    }
  ],
  "metadata": {
    "colab": {
      "provenance": []
    },
    "kernelspec": {
      "display_name": "Python 3",
      "name": "python3"
    },
    "language_info": {
      "name": "python"
    }
  },
  "nbformat": 4,
  "nbformat_minor": 0
}
